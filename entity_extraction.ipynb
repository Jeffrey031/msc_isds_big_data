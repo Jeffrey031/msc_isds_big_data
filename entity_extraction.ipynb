{
 "cells": [
  {
   "cell_type": "markdown",
   "metadata": {},
   "source": [
    "# Extracting entities\n",
    "Using Spacy to extract entities for storing in relational structure"
   ]
  },
  {
   "cell_type": "markdown",
   "metadata": {},
   "source": [
    "### Imports"
   ]
  },
  {
   "cell_type": "code",
   "execution_count": 1,
   "metadata": {},
   "outputs": [],
   "source": [
    "import pandas as pd\n",
    "import spacy\n",
    "import os\n",
    "import time\n",
    "import itertools\n",
    "from tqdm import tqdm"
   ]
  },
  {
   "cell_type": "markdown",
   "metadata": {},
   "source": [
    "### Global variables"
   ]
  },
  {
   "cell_type": "code",
   "execution_count": 2,
   "metadata": {},
   "outputs": [],
   "source": [
    "wiki_folder = 'data'\n",
    "\n",
    "file_list = os.listdir(os.path.join(wiki_folder))\n",
    "if '.DS_Store' in file_list: \n",
    "    file_list.remove('.DS_Store')\n",
    "    \n",
    "main_delimiter = ';'"
   ]
  },
  {
   "cell_type": "code",
   "execution_count": 3,
   "metadata": {},
   "outputs": [],
   "source": [
    "def ascii_char(character):\n",
    "    \"\"\" Not a perfect function to convert a single\n",
    "        charachter to ascii representation\n",
    "        in: character : single characters (string)\n",
    "        out: string\n",
    "    \"\"\"\n",
    "    assert len(character) == 1, 'The character argument has to be one letter long'\n",
    "    return '0x' + str(character).encode('ascii').hex()\n",
    "\n",
    "def read_single_file(file_name, file_path=''):\n",
    "    \"\"\" reads bytes like object from file and\n",
    "        returns string\n",
    "        in: file_name : name of the file\n",
    "            file_path : optional folder where \n",
    "        out: string\n",
    "    \"\"\"\n",
    "    with open(os.path.join(file_path, file_name), 'rb') as f:\n",
    "        file_text = ''\n",
    "        for line in f:\n",
    "            try:\n",
    "                file_text += line.decode(\"utf-8\").strip()\n",
    "            except:\n",
    "                print('Line skipped in file {0}'.format(file_name))\n",
    "    return file_text.replace(main_delimiter, ascii_char(main_delimiter))\n",
    "\n",
    "def extract_entities(file_text, file_id):\n",
    "    \"\"\" Extracts entities using Spacy which is \n",
    "        based on a neural network\n",
    "        in: file_text : string\n",
    "            file_id   : id to be mapped on\n",
    "        out: list of tuple(s)\n",
    "    \"\"\"\n",
    "    nlp = spacy.load(\"en_core_web_sm\")\n",
    "    text = nlp(file_text)\n",
    "    return [tuple([file_id, time.strftime('%Y-%m-%d %H:%M:%S')\n",
    "                   ,ent.text, ent.start_char, ent.end_char, ent.label_])\n",
    "            for ent in text.ents]\n",
    "\n",
    "def read_save_all_files(file_list):\n",
    "    \"\"\" Load, tag and save files\n",
    "    in: file_list : list of file locations\n",
    "    out: save to a csv file\n",
    "    \"\"\"\n",
    "    pd.DataFrame(itertools.chain.from_iterable(extract_entities(read_single_file(file_list[i], 'data'), i)\n",
    "                 for i in tqdm(range(len(file_list))))).to_csv('structured_table2.csv', sep=main_delimiter)\n",
    "#     with tqdm(total=len(my_list)) as pbar:\n",
    "#     for x in my_list:\n",
    "#         pbar.update(1)\n",
    "\n",
    "def structure_source_table(sentence, file_id):\n",
    "    return [tuple([file_id, time.strftime('%Y-%m-%d %H:%M:%S'), sentence])]\n",
    "    \n",
    "def read_save_all_source_texts(file_list):\n",
    "    pd.DataFrame(itertools.chain.from_iterable(structure_source_table(read_single_file(file_list[i], 'data'), i)\n",
    "                 for i in tqdm(range(len(file_list))))).to_csv('structured_table_source2.csv', sep=main_delimiter)"
   ]
  },
  {
   "cell_type": "code",
   "execution_count": 4,
   "metadata": {},
   "outputs": [],
   "source": [
    "# for x in file_list:\n",
    "#     if ';;;' in read_single_file(x, 'data'):\n",
    "#         print(x)"
   ]
  },
  {
   "cell_type": "code",
   "execution_count": 5,
   "metadata": {},
   "outputs": [
    {
     "name": "stderr",
     "output_type": "stream",
     "text": [
      "100%|██████████| 2699/2699 [27:30<00:00,  1.16it/s]\n"
     ]
    }
   ],
   "source": [
    "read_save_all_files(file_list)"
   ]
  },
  {
   "cell_type": "code",
   "execution_count": 6,
   "metadata": {},
   "outputs": [
    {
     "name": "stderr",
     "output_type": "stream",
     "text": [
      "100%|██████████| 2699/2699 [00:01<00:00, 2456.30it/s]\n"
     ]
    }
   ],
   "source": [
    "read_save_all_source_texts(file_list)"
   ]
  },
  {
   "cell_type": "code",
   "execution_count": 9,
   "metadata": {},
   "outputs": [],
   "source": [
    "cols_structured = {'Unnamed: 0': 'entity_id'\n",
    "                   , '0': 'source_id'\n",
    "                   , '1': 'datetime'\n",
    "                   , '2': 'entity_text'\n",
    "                   , '3': 'str_start'\n",
    "                   , '4': 'str_end'\n",
    "                   , '5': 'entity_tag'}\n",
    "df_structured = pd.read_csv('structured_table2.csv', sep=main_delimiter).rename(columns=cols_structured)"
   ]
  },
  {
   "cell_type": "code",
   "execution_count": 10,
   "metadata": {},
   "outputs": [
    {
     "name": "stdout",
     "output_type": "stream",
     "text": [
      "\\begin{tabular}{rrllrrl}\n",
      "\\toprule\n",
      " entity\\_id &  source\\_id &             datetime &                   entity\\_text &  str\\_start &  str\\_end & entity\\_tag \\\\\n",
      "\\midrule\n",
      "     83520 &       1020 &  2020-03-17 17:01:02 &                     Gateshead &        503 &      512 &        ORG \\\\\n",
      "    183492 &       2171 &  2020-03-17 17:12:41 &                      Bordeaux &        186 &      194 &        GPE \\\\\n",
      "    173449 &       2044 &  2020-03-17 17:11:26 &  Darstellende Kunst Stuttgart &       1310 &     1338 &        ORG \\\\\n",
      "     16494 &        194 &  2020-03-17 16:52:50 &                           two &      36392 &    36395 &   CARDINAL \\\\\n",
      "     49651 &        566 &  2020-03-17 16:56:34 &                  Dáil Éireann &       1964 &     1976 &     PERSON \\\\\n",
      "     89788 &       1129 &  2020-03-17 17:02:05 &                          U.S. &         25 &       29 &        GPE \\\\\n",
      "     35993 &        411 &  2020-03-17 16:55:02 &            the spring of 1392 &       3537 &     3555 &       DATE \\\\\n",
      "    199295 &       2282 &  2020-03-17 17:13:55 &               the Cup of Ankh &      51948 &    51963 &      EVENT \\\\\n",
      "    107317 &       1330 &  2020-03-17 17:04:05 &              the Purple Heart &        759 &      775 &        ORG \\\\\n",
      "     90480 &       1139 &  2020-03-17 17:02:11 &                        Ronnie &       4982 &     4988 &     PERSON \\\\\n",
      "\\bottomrule\n",
      "\\end{tabular}\n",
      "\n"
     ]
    }
   ],
   "source": [
    "print(df_structured.sample(10).to_latex(index=False))"
   ]
  },
  {
   "cell_type": "code",
   "execution_count": null,
   "metadata": {},
   "outputs": [],
   "source": []
  }
 ],
 "metadata": {
  "kernelspec": {
   "display_name": "Python 3",
   "language": "python",
   "name": "python3"
  },
  "language_info": {
   "codemirror_mode": {
    "name": "ipython",
    "version": 3
   },
   "file_extension": ".py",
   "mimetype": "text/x-python",
   "name": "python",
   "nbconvert_exporter": "python",
   "pygments_lexer": "ipython3",
   "version": "3.7.4"
  },
  "toc": {
   "base_numbering": 1,
   "nav_menu": {},
   "number_sections": true,
   "sideBar": true,
   "skip_h1_title": false,
   "title_cell": "Table of Contents",
   "title_sidebar": "Contents",
   "toc_cell": false,
   "toc_position": {},
   "toc_section_display": true,
   "toc_window_display": false
  },
  "varInspector": {
   "cols": {
    "lenName": 16,
    "lenType": 16,
    "lenVar": 40
   },
   "kernels_config": {
    "python": {
     "delete_cmd_postfix": "",
     "delete_cmd_prefix": "del ",
     "library": "var_list.py",
     "varRefreshCmd": "print(var_dic_list())"
    },
    "r": {
     "delete_cmd_postfix": ") ",
     "delete_cmd_prefix": "rm(",
     "library": "var_list.r",
     "varRefreshCmd": "cat(var_dic_list()) "
    }
   },
   "position": {
    "height": "567.85px",
    "left": "1392px",
    "right": "20px",
    "top": "37px",
    "width": "439px"
   },
   "types_to_exclude": [
    "module",
    "function",
    "builtin_function_or_method",
    "instance",
    "_Feature"
   ],
   "window_display": true
  }
 },
 "nbformat": 4,
 "nbformat_minor": 4
}
